{
 "metadata": {
  "language_info": {
   "codemirror_mode": {
    "name": "ipython",
    "version": 3
   },
   "file_extension": ".py",
   "mimetype": "text/x-python",
   "name": "python",
   "nbconvert_exporter": "python",
   "pygments_lexer": "ipython3",
   "version": "3.8.6-final"
  },
  "orig_nbformat": 2,
  "kernelspec": {
   "name": "python_defaultSpec_1608212821936",
   "display_name": "Python 3.8.6 64-bit ('myenv': venv)"
  }
 },
 "nbformat": 4,
 "nbformat_minor": 2,
 "cells": [
  {
   "cell_type": "code",
   "execution_count": 3,
   "metadata": {},
   "outputs": [],
   "source": [
    "import yaml\n",
    "from github import Github\n",
    "import networkx as nx\n",
    "import re"
   ]
  },
  {
   "cell_type": "code",
   "execution_count": 4,
   "metadata": {},
   "outputs": [],
   "source": [
    "config = None\n",
    "with open('config.yml', 'r') as config_file:\n",
    "    try:\n",
    "        config = yaml.safe_load(config_file)\n",
    "    except yaml.YAMLError as exc:\n",
    "        print(exc)"
   ]
  },
  {
   "cell_type": "code",
   "execution_count": null,
   "metadata": {},
   "outputs": [],
   "source": [
    "G = nx.DiGraph()\n",
    "\n",
    "gh = Github(config['api_key'])\n",
    "org = gh.get_organization(config['org_scope'])\n",
    "repos = org.get_repos()\n",
    "\n",
    "org_count = 0\n",
    "for repo in repos:\n",
    "    issues = repo.get_issues(sort='comments')\n",
    "    for issue in issues[0:min(config['limit_repo'],issues.totalCount)]:\n",
    "        # aumentar a contagem para a organização\n",
    "        org_count += 1\n",
    "        # obter as palavras a partir da label\n",
    "        labels = issue.get_labels()\n",
    "        words = [word.upper() for label in labels for word in re.split(r'\\s|_|\\-|\\.|(?<=[a-z])(?=[A-Z])', label.name) if ':' not in word]\n",
    "        # remover duplicatas\n",
    "        words = list(words)\n",
    "        # obter o login do autor\n",
    "        login_author = issue.user.login\n",
    "        # adicionar o nó\n",
    "        G.add_node(login_author, type='user')\n",
    "        # fazer a relação do autor com cada palavra\n",
    "        for word in words:\n",
    "            # adicionar o nó\n",
    "            G.add_node(word, type='word')\n",
    "            # fazer a relação do usuário com a palavra\n",
    "            weight = G.get_edge_data(login_author, word)['weight'] + 1 if G.has_edge(login_author, word) else 1\n",
    "            G.add_edge(login_author, word, weight=weight, type='user_word')\n",
    "        # obter comentários\n",
    "        comments = issue.get_comments()\n",
    "        # fazer a relação do autor com cada um dos participantes\n",
    "        for comment in comments:\n",
    "            # obter o login do participante\n",
    "            login_user = comment.user.login\n",
    "            # adicionar o nó\n",
    "            G.add_node(login_user, type='user')\n",
    "            # verificar se é o autor\n",
    "            if(login_user == login_author):\n",
    "                continue\n",
    "            # fazer a relação com do usuário com o autor\n",
    "            weight = G.get_edge_data(login_user, login_author)['weight'] + 1 if G.has_edge(login_user, login_author) else 1\n",
    "            G.add_edge(login_user, login_author, weight=weight, type='user_user')\n",
    "            # fazer a relação com cada uma das palavras\n",
    "            for word in words:\n",
    "                # fazer a relação do usuário com a palavra\n",
    "                weight = G.get_edge_data(login_user, word)['weight'] + 1 if G.has_edge(login_user, word) else 1\n",
    "                G.add_edge(login_user, word, weight=weight, type='user_word')\n",
    "        # checar a contagem de issues\n",
    "        if(org_count >= config['limit_org']):\n",
    "            break   \n",
    "    # checar a contagem de issues\n",
    "    if(org_count >= config['limit_org']):\n",
    "        break"
   ]
  },
  {
   "cell_type": "code",
   "execution_count": 6,
   "metadata": {},
   "outputs": [],
   "source": [
    "nx.write_graphml(G, config['output'])"
   ]
  }
 ]
}